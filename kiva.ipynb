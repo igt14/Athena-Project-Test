{
 "cells": [
  {
   "cell_type": "code",
   "execution_count": 155,
   "metadata": {},
   "outputs": [],
   "source": [
    "import numpy as np\n",
    "import pandas as pd\n",
    "import matplotlib.pyplot as plt"
   ]
  },
  {
   "cell_type": "code",
   "execution_count": 156,
   "metadata": {},
   "outputs": [],
   "source": [
    "loans = pd.read_csv(r'C:\\Users\\hp\\Documents\\Athengo\\kiva_loans.csv')\n",
    "theme_ids = pd.read_csv(r'C:\\Users\\hp\\Documents\\Athengo\\loan_theme_ids.csv')\n",
    "theme_region = pd.read_csv(r'C:\\Users\\hp\\Documents\\Athengo\\loan_themes_by_region.csv')\n",
    "mpi = pd.read_csv(r'C:\\Users\\hp\\Documents\\Athengo\\kiva_mpi_region_locations.csv')"
   ]
  },
  {
   "cell_type": "markdown",
   "metadata": {},
   "source": [
    "### 1. Previewing Our Datasets"
   ]
  },
  {
   "cell_type": "code",
   "execution_count": 157,
   "metadata": {},
   "outputs": [
    {
     "name": "stdout",
     "output_type": "stream",
     "text": [
      "<class 'pandas.core.frame.DataFrame'>\n",
      "RangeIndex: 671205 entries, 0 to 671204\n",
      "Data columns (total 20 columns):\n",
      " #   Column              Non-Null Count   Dtype  \n",
      "---  ------              --------------   -----  \n",
      " 0   id                  671205 non-null  int64  \n",
      " 1   funded_amount       671205 non-null  float64\n",
      " 2   loan_amount         671205 non-null  float64\n",
      " 3   activity            671205 non-null  object \n",
      " 4   sector              671205 non-null  object \n",
      " 5   use                 666973 non-null  object \n",
      " 6   country_code        671197 non-null  object \n",
      " 7   country             671205 non-null  object \n",
      " 8   region              614405 non-null  object \n",
      " 9   currency            671205 non-null  object \n",
      " 10  partner_id          657698 non-null  float64\n",
      " 11  posted_time         671205 non-null  object \n",
      " 12  disbursed_time      668809 non-null  object \n",
      " 13  funded_time         622874 non-null  object \n",
      " 14  term_in_months      671205 non-null  float64\n",
      " 15  lender_count        671205 non-null  int64  \n",
      " 16  tags                499789 non-null  object \n",
      " 17  borrower_genders    666984 non-null  object \n",
      " 18  repayment_interval  671205 non-null  object \n",
      " 19  date                671205 non-null  object \n",
      "dtypes: float64(4), int64(2), object(14)\n",
      "memory usage: 102.4+ MB\n"
     ]
    }
   ],
   "source": [
    "loans.info()"
   ]
  },
  {
   "cell_type": "code",
   "execution_count": 158,
   "metadata": {},
   "outputs": [
    {
     "name": "stdout",
     "output_type": "stream",
     "text": [
      "<class 'pandas.core.frame.DataFrame'>\n",
      "RangeIndex: 779092 entries, 0 to 779091\n",
      "Data columns (total 4 columns):\n",
      " #   Column           Non-Null Count   Dtype  \n",
      "---  ------           --------------   -----  \n",
      " 0   id               779092 non-null  int64  \n",
      " 1   Loan Theme ID    764279 non-null  object \n",
      " 2   Loan Theme Type  764279 non-null  object \n",
      " 3   Partner ID       764279 non-null  float64\n",
      "dtypes: float64(1), int64(1), object(2)\n",
      "memory usage: 23.8+ MB\n"
     ]
    }
   ],
   "source": [
    "theme_ids.info()"
   ]
  },
  {
   "cell_type": "code",
   "execution_count": 159,
   "metadata": {},
   "outputs": [
    {
     "name": "stdout",
     "output_type": "stream",
     "text": [
      "<class 'pandas.core.frame.DataFrame'>\n",
      "RangeIndex: 15736 entries, 0 to 15735\n",
      "Data columns (total 21 columns):\n",
      " #   Column              Non-Null Count  Dtype  \n",
      "---  ------              --------------  -----  \n",
      " 0   Partner ID          15736 non-null  int64  \n",
      " 1   Field Partner Name  15736 non-null  object \n",
      " 2   sector              15736 non-null  object \n",
      " 3   Loan Theme ID       15736 non-null  object \n",
      " 4   Loan Theme Type     15736 non-null  object \n",
      " 5   country             15736 non-null  object \n",
      " 6   forkiva             15736 non-null  object \n",
      " 7   region              15736 non-null  object \n",
      " 8   geocode_old         1200 non-null   object \n",
      " 9   ISO                 15722 non-null  object \n",
      " 10  number              15736 non-null  int64  \n",
      " 11  amount              15736 non-null  int64  \n",
      " 12  LocationName        15736 non-null  object \n",
      " 13  geocode             13662 non-null  object \n",
      " 14  names               13661 non-null  object \n",
      " 15  geo                 15736 non-null  object \n",
      " 16  lat                 13662 non-null  float64\n",
      " 17  lon                 13662 non-null  float64\n",
      " 18  mpi_region          15722 non-null  object \n",
      " 19  mpi_geo             9671 non-null   object \n",
      " 20  rural_pct           14344 non-null  float64\n",
      "dtypes: float64(3), int64(3), object(15)\n",
      "memory usage: 2.5+ MB\n"
     ]
    }
   ],
   "source": [
    "theme_region.info()"
   ]
  },
  {
   "cell_type": "code",
   "execution_count": 160,
   "metadata": {},
   "outputs": [
    {
     "name": "stdout",
     "output_type": "stream",
     "text": [
      "<class 'pandas.core.frame.DataFrame'>\n",
      "RangeIndex: 2772 entries, 0 to 2771\n",
      "Data columns (total 9 columns):\n",
      " #   Column        Non-Null Count  Dtype  \n",
      "---  ------        --------------  -----  \n",
      " 0   LocationName  984 non-null    object \n",
      " 1   ISO           1008 non-null   object \n",
      " 2   country       1008 non-null   object \n",
      " 3   region        984 non-null    object \n",
      " 4   world_region  1008 non-null   object \n",
      " 5   MPI           984 non-null    float64\n",
      " 6   geo           2772 non-null   object \n",
      " 7   lat           892 non-null    float64\n",
      " 8   lon           892 non-null    float64\n",
      "dtypes: float64(3), object(6)\n",
      "memory usage: 195.0+ KB\n"
     ]
    }
   ],
   "source": [
    "mpi.info()"
   ]
  },
  {
   "cell_type": "markdown",
   "metadata": {},
   "source": [
    "#### 1.1 Duplicates"
   ]
  },
  {
   "cell_type": "code",
   "execution_count": 161,
   "metadata": {},
   "outputs": [
    {
     "name": "stdout",
     "output_type": "stream",
     "text": [
      "loans - False\n",
      "theme_ids - False\n",
      "theme_region - False\n",
      "mpi - True\n"
     ]
    }
   ],
   "source": [
    "print(f'loans - {loans.duplicated().any()}')\n",
    "print(f'theme_ids - {theme_ids.duplicated().any()}')\n",
    "print(f'theme_region - {theme_region.duplicated().any()}')\n",
    "print(f'mpi - {mpi.duplicated().any()}')"
   ]
  },
  {
   "cell_type": "code",
   "execution_count": 162,
   "metadata": {},
   "outputs": [],
   "source": [
    "# mpi[mpi.duplicated(keep=False)==True].to_clipboard()"
   ]
  },
  {
   "cell_type": "code",
   "execution_count": 163,
   "metadata": {},
   "outputs": [],
   "source": [
    "# All duplicates all blanks so we can drop them \n",
    "mpi.drop_duplicates(inplace=True)"
   ]
  },
  {
   "cell_type": "markdown",
   "metadata": {},
   "source": [
    "#### 1.2 Unique Identifiers"
   ]
  },
  {
   "cell_type": "code",
   "execution_count": 164,
   "metadata": {},
   "outputs": [
    {
     "name": "stdout",
     "output_type": "stream",
     "text": [
      "loans - id - False\n",
      "theme_ids - id - False\n",
      "theme_region - Loan Theme ID - True\n",
      "mpi - LocationName - True\n"
     ]
    }
   ],
   "source": [
    "print(f\"loans - id - {loans.duplicated('id').any()}\")\n",
    "print(f\"theme_ids - id - {theme_ids.duplicated('id').any()}\")\n",
    "print(f\"theme_region - Loan Theme ID - {theme_region.duplicated('Loan Theme ID').any()}\")\n",
    "print(f\"mpi - LocationName - {mpi.duplicated('LocationName').any()}\")"
   ]
  },
  {
   "cell_type": "code",
   "execution_count": 165,
   "metadata": {},
   "outputs": [],
   "source": [
    "# theme_region[theme_region.duplicated('Loan Theme ID',keep=False)==True].to_clipboard()"
   ]
  },
  {
   "cell_type": "code",
   "execution_count": 166,
   "metadata": {},
   "outputs": [
    {
     "name": "stdout",
     "output_type": "stream",
     "text": [
      "theme_region - Loan Theme ID, LocationName - False\n"
     ]
    }
   ],
   "source": [
    "print(f\"theme_region - Loan Theme ID, LocationName - {theme_region.duplicated(['Loan Theme ID','LocationName']).any()}\")"
   ]
  },
  {
   "cell_type": "code",
   "execution_count": 167,
   "metadata": {},
   "outputs": [],
   "source": [
    "# mpi[mpi.duplicated('LocationName',keep=False)==True].to_clipboard()"
   ]
  },
  {
   "cell_type": "code",
   "execution_count": 168,
   "metadata": {},
   "outputs": [
    {
     "name": "stdout",
     "output_type": "stream",
     "text": [
      "mpi - LocationName - False\n"
     ]
    }
   ],
   "source": [
    "# Again these are blank Locations with no mpi so we can drop \n",
    "mpi.dropna(subset='LocationName',inplace=True)\n",
    "print(f\"mpi - LocationName - {mpi.duplicated('LocationName').any()}\")"
   ]
  },
  {
   "cell_type": "markdown",
   "metadata": {},
   "source": [
    "#### 1.2 Merging "
   ]
  },
  {
   "cell_type": "code",
   "execution_count": 169,
   "metadata": {},
   "outputs": [],
   "source": [
    "# print(loans.shape)\n",
    "# df1 = pd.merge(loans,theme_ids,on='id',how='left')\n",
    "# print(df1.shape)"
   ]
  },
  {
   "cell_type": "code",
   "execution_count": 170,
   "metadata": {},
   "outputs": [],
   "source": [
    "# print(theme_region.shape)\n",
    "# df2 = pd.merge(theme_region,mpi[['LocationName','MPI']],left_on='mpi_region',right_on='LocationName',how='left')\n",
    "# print(df2.shape)"
   ]
  },
  {
   "cell_type": "code",
   "execution_count": 171,
   "metadata": {},
   "outputs": [],
   "source": [
    "# df2['MPI'].isna().value_counts()"
   ]
  },
  {
   "cell_type": "code",
   "execution_count": 172,
   "metadata": {},
   "outputs": [],
   "source": [
    "# df2[df2['MPI'].isna()==True].to_clipboard()"
   ]
  },
  {
   "cell_type": "code",
   "execution_count": 173,
   "metadata": {},
   "outputs": [],
   "source": [
    "# df2.columns"
   ]
  },
  {
   "cell_type": "code",
   "execution_count": 174,
   "metadata": {},
   "outputs": [],
   "source": [
    "# print(df1.shape)\n",
    "# data = pd.merge(df1,df2[['Loan Theme ID','Partner ID','Field Partner Name','country','region','MPI']],\n",
    "#                 on=['Loan Theme ID','Partner ID','country','region'],how='left')\n",
    "# print(data.shape)"
   ]
  },
  {
   "cell_type": "code",
   "execution_count": 175,
   "metadata": {},
   "outputs": [],
   "source": [
    "# data['Field Partner Name'].isna().value_counts()"
   ]
  },
  {
   "cell_type": "code",
   "execution_count": 176,
   "metadata": {},
   "outputs": [],
   "source": [
    "# data[data['Field Partner Name'].isna()==True]"
   ]
  },
  {
   "cell_type": "markdown",
   "metadata": {},
   "source": [
    "### 2. Analysis"
   ]
  },
  {
   "cell_type": "markdown",
   "metadata": {},
   "source": [
    "#### 2.1 Net Disbursment\n",
    "This is the difference between the funded amount and the loaned amount"
   ]
  },
  {
   "cell_type": "code",
   "execution_count": 177,
   "metadata": {},
   "outputs": [],
   "source": [
    "partners = theme_region.drop_duplicates('Partner ID')[['Partner ID','Field Partner Name']]"
   ]
  },
  {
   "cell_type": "code",
   "execution_count": 178,
   "metadata": {},
   "outputs": [
    {
     "name": "stdout",
     "output_type": "stream",
     "text": [
      "(671205, 20)\n",
      "(671205, 22)\n"
     ]
    }
   ],
   "source": [
    "print(loans.shape)\n",
    "loans1 = pd.merge(loans,partners,left_on='partner_id',right_on='Partner ID',how='left')\n",
    "print(loans1.shape)"
   ]
  },
  {
   "cell_type": "code",
   "execution_count": 179,
   "metadata": {},
   "outputs": [],
   "source": [
    "# loans1[loans1['Field Partner Name'].isna()==True][['partner_id','Partner ID','Field Partner Name']]"
   ]
  },
  {
   "cell_type": "code",
   "execution_count": 180,
   "metadata": {},
   "outputs": [],
   "source": [
    "loans1['Field Partner Name'] = loans1['Field Partner Name'].fillna(loans1['partner_id'])"
   ]
  },
  {
   "cell_type": "code",
   "execution_count": 181,
   "metadata": {},
   "outputs": [],
   "source": [
    "loans1['net_disbursment'] = loans1['funded_amount'] - loans1['loan_amount']"
   ]
  },
  {
   "cell_type": "markdown",
   "metadata": {},
   "source": [
    "* If the funded amount equals the loan amount then the loan is fully utilized \n",
    "* If the funded amount is more than the loan amount then the loan is under utilized i.e money is there but the field agent has not disbursed all of it to the borrower \n",
    "* If the funded amount is less than the loan amount then the loan is over utilized i.e the field agent has disbursed more money to the borrower than the funds available"
   ]
  },
  {
   "cell_type": "code",
   "execution_count": 182,
   "metadata": {},
   "outputs": [],
   "source": [
    "loans1['utilization'] = np.where(loans1['net_disbursment']>0,'under utilized',\n",
    "         np.where(loans1['net_disbursment']<0,'over utilized','fully utilized'))"
   ]
  },
  {
   "cell_type": "code",
   "execution_count": 183,
   "metadata": {},
   "outputs": [
    {
     "data": {
      "text/plain": [
       "fully utilized    622875\n",
       "over utilized      48328\n",
       "under utilized         2\n",
       "Name: utilization, dtype: int64"
      ]
     },
     "execution_count": 183,
     "metadata": {},
     "output_type": "execute_result"
    }
   ],
   "source": [
    "loans1['utilization'].value_counts()"
   ]
  },
  {
   "cell_type": "code",
   "execution_count": 184,
   "metadata": {},
   "outputs": [
    {
     "data": {
      "image/png": "[encoded data removed]",
      "text/plain": [
       "<Figure size 432x288 with 1 Axes>"
      ]
     },
     "metadata": {},
     "output_type": "display_data"
    }
   ],
   "source": [
    "loans1['utilization'].value_counts().plot(kind='pie', autopct='%1.1f%%', startangle=90, explode=(0, 0, 0.5))\n",
    "plt.axis('equal')\n",
    "plt.show()"
   ]
  },
  {
   "cell_type": "markdown",
   "metadata": {},
   "source": [
    "##### 2.1.1 Funding Gap\n",
    "This is the deficit in funding. This will need to be plugged because the money has already been dispersed to the borrower by the field agent."
   ]
  },
  {
   "cell_type": "code",
   "execution_count": 185,
   "metadata": {},
   "outputs": [],
   "source": [
    "over_utilized= loans1[loans1['utilization']=='over utilized']"
   ]
  },
  {
   "cell_type": "code",
   "execution_count": 186,
   "metadata": {},
   "outputs": [
    {
     "data": {
      "text/plain": [
       "-37857760.0"
      ]
     },
     "execution_count": 186,
     "metadata": {},
     "output_type": "execute_result"
    }
   ],
   "source": [
    "over_utilized['net_disbursment'].sum()"
   ]
  },
  {
   "cell_type": "markdown",
   "metadata": {},
   "source": [
    "Kiva has a funding gap of about 37.85 M "
   ]
  },
  {
   "cell_type": "code",
   "execution_count": 187,
   "metadata": {},
   "outputs": [],
   "source": [
    "over_utilized.to_csv('over_utilized.csv')"
   ]
  },
  {
   "cell_type": "code",
   "execution_count": 188,
   "metadata": {},
   "outputs": [
    {
     "data": {
      "text/plain": [
       "country\n",
       "United States   -8337835.0\n",
       "El Salvador     -3245925.0\n",
       "Kenya           -2285895.0\n",
       "Colombia        -1941825.0\n",
       "Armenia         -1729125.0\n",
       "Name: net_disbursment, dtype: float64"
      ]
     },
     "execution_count": 188,
     "metadata": {},
     "output_type": "execute_result"
    }
   ],
   "source": [
    "# Countries with the largest funding gap\n",
    "over_utilized.groupby('country')['net_disbursment'].sum().nsmallest(5)"
   ]
  },
  {
   "cell_type": "code",
   "execution_count": 189,
   "metadata": {},
   "outputs": [
    {
     "data": {
      "text/plain": [
       "Field Partner Name\n",
       "Interactuar               -1582050.0\n",
       "CrediCampo                -1538350.0\n",
       "Apoyo Integral            -1152150.0\n",
       "SEF International         -1033450.0\n",
       "Urwego Opportunity Bank    -765075.0\n",
       "Name: net_disbursment, dtype: float64"
      ]
     },
     "execution_count": 189,
     "metadata": {},
     "output_type": "execute_result"
    }
   ],
   "source": [
    "# Partners with the largest funding gap\n",
    "over_utilized.groupby('Field Partner Name')['net_disbursment'].sum().nsmallest(5)"
   ]
  },
  {
   "cell_type": "markdown",
   "metadata": {},
   "source": [
    "##### 2.1.2 Absorption Rate\n",
    "This is the percentage of funds available that have been disbursed to the borrower by the field agent"
   ]
  },
  {
   "cell_type": "code",
   "execution_count": 190,
   "metadata": {},
   "outputs": [],
   "source": [
    "fully_funded= loans1[loans1['utilization'].isin(['under utilized','fully utilized'])]"
   ]
  },
  {
   "cell_type": "code",
   "execution_count": 191,
   "metadata": {},
   "outputs": [
    {
     "data": {
      "text/plain": [
       "99.99991453550903"
      ]
     },
     "execution_count": 191,
     "metadata": {},
     "output_type": "execute_result"
    }
   ],
   "source": [
    "(sum(fully_funded['loan_amount']) / sum(fully_funded['funded_amount']))*100"
   ]
  },
  {
   "cell_type": "markdown",
   "metadata": {},
   "source": [
    "Kiva has a really absorption rate meaning the partners are doing a great job in getting the money to the people who need it"
   ]
  },
  {
   "cell_type": "code",
   "execution_count": 192,
   "metadata": {},
   "outputs": [
    {
     "data": {
      "text/html": [
       "<div>\n",
       "<style scoped>\n",
       "    .dataframe tbody tr th:only-of-type {\n",
       "        vertical-align: middle;\n",
       "    }\n",
       "\n",
       "    .dataframe tbody tr th {\n",
       "        vertical-align: top;\n",
       "    }\n",
       "\n",
       "    .dataframe thead th {\n",
       "        text-align: right;\n",
       "    }\n",
       "</style>\n",
       "<table border=\"1\" class=\"dataframe\">\n",
       "  <thead>\n",
       "    <tr style=\"text-align: right;\">\n",
       "      <th></th>\n",
       "      <th>id</th>\n",
       "      <th>funded_amount</th>\n",
       "      <th>loan_amount</th>\n",
       "      <th>net_disbursment</th>\n",
       "      <th>country</th>\n",
       "      <th>Field Partner Name</th>\n",
       "    </tr>\n",
       "  </thead>\n",
       "  <tbody>\n",
       "    <tr>\n",
       "      <th>277188</th>\n",
       "      <td>924149</td>\n",
       "      <td>425.0</td>\n",
       "      <td>400.0</td>\n",
       "      <td>25.0</td>\n",
       "      <td>Mozambique</td>\n",
       "      <td>Hluvuku-Adsema</td>\n",
       "    </tr>\n",
       "    <tr>\n",
       "      <th>338159</th>\n",
       "      <td>985199</td>\n",
       "      <td>3400.0</td>\n",
       "      <td>3000.0</td>\n",
       "      <td>400.0</td>\n",
       "      <td>Armenia</td>\n",
       "      <td>SEF International</td>\n",
       "    </tr>\n",
       "  </tbody>\n",
       "</table>\n",
       "</div>"
      ],
      "text/plain": [
       "            id  funded_amount  loan_amount  net_disbursment     country  \\\n",
       "277188  924149          425.0        400.0             25.0  Mozambique   \n",
       "338159  985199         3400.0       3000.0            400.0     Armenia   \n",
       "\n",
       "       Field Partner Name  \n",
       "277188     Hluvuku-Adsema  \n",
       "338159  SEF International  "
      ]
     },
     "execution_count": 192,
     "metadata": {},
     "output_type": "execute_result"
    }
   ],
   "source": [
    "fully_funded[fully_funded['utilization']=='under utilized'][['id','funded_amount','loan_amount','net_disbursment','country','Field Partner Name']]"
   ]
  },
  {
   "cell_type": "markdown",
   "metadata": {},
   "source": [
    "These are the two field partners that have not fully disbursed 425 shillings. Kiva will have to follow up and find out the reasons why"
   ]
  },
  {
   "cell_type": "markdown",
   "metadata": {},
   "source": [
    "#### 3.1 Reporting Time\n",
    "This is the amount of time taken by our partners to report that the money has been disbursed to the borrower.\n",
    "It is important that we know when borrowers have received the money they require as soon as possible. This will help us make decisions faster and keep our investors informed of how their funds are being used.\n",
    "\n",
    "**NB: I am making an assumption that the field partners disperse the loan first and then post the loan on Kiva**"
   ]
  },
  {
   "cell_type": "code",
   "execution_count": 193,
   "metadata": {},
   "outputs": [],
   "source": [
    "loans1['dibursment_date'] = pd.to_datetime(pd.to_datetime(loans1['disbursed_time']).dt.date,yearfirst=True)\n",
    "loans1['reporting_date'] = pd.to_datetime(pd.to_datetime(loans1['posted_time']).dt.date,yearfirst=True)\n",
    "loans1['reporting_time'] = (loans1['reporting_date'] - loans1['dibursment_date']).dt.days"
   ]
  },
  {
   "cell_type": "code",
   "execution_count": 194,
   "metadata": {},
   "outputs": [],
   "source": [
    "# Removing records where the loan was posted before it was disbursed\n",
    "loans2 = loans1[loans1['reporting_time']>=0]"
   ]
  },
  {
   "cell_type": "markdown",
   "metadata": {},
   "source": [
    "##### 3.1.1 Average Time Taken"
   ]
  },
  {
   "cell_type": "code",
   "execution_count": 195,
   "metadata": {},
   "outputs": [
    {
     "data": {
      "text/plain": [
       "17.295465946671353"
      ]
     },
     "execution_count": 195,
     "metadata": {},
     "output_type": "execute_result"
    }
   ],
   "source": [
    "loans2['reporting_time'].mean()"
   ]
  },
  {
   "cell_type": "markdown",
   "metadata": {},
   "source": [
    "Our partners take an average of 17 days to post loans that have been disbursed on Kiva"
   ]
  },
  {
   "cell_type": "code",
   "execution_count": 196,
   "metadata": {},
   "outputs": [
    {
     "data": {
      "text/plain": [
       "Field Partner Name\n",
       "FundaciÍ_n Paraguaya    30.917332\n",
       "Building Markets        30.000000\n",
       "MCE Social Capital      30.000000\n",
       "282.0                   29.855263\n",
       "376.0                   29.833333\n",
       "Name: reporting_time, dtype: float64"
      ]
     },
     "execution_count": 196,
     "metadata": {},
     "output_type": "execute_result"
    }
   ],
   "source": [
    "# Partners that take the most time to post loans\n",
    "loans1.groupby('Field Partner Name')['reporting_time'].mean().nlargest(5)"
   ]
  },
  {
   "cell_type": "markdown",
   "metadata": {},
   "source": [
    "One problem with using the average is that it is affected by outliers so a field agent may have posted many loans on Kiva in a day but posted one loan in 30 days thus making them look worse than they actually are"
   ]
  },
  {
   "cell_type": "markdown",
   "metadata": {},
   "source": [
    "##### 3.1.2 Percentage Reported Within the Target Period\n",
    "We can set a target to our partners that they should post loans on Kiva within x days of disbursing them and see what percentage of loans posted meet that target.\n",
    "\n",
    "I will use 7 days in my case."
   ]
  },
  {
   "cell_type": "code",
   "execution_count": 197,
   "metadata": {},
   "outputs": [
    {
     "name": "stderr",
     "output_type": "stream",
     "text": [
      "C:\\Users\\hp\\AppData\\Local\\Temp\\ipykernel_16024\\2769514661.py:1: SettingWithCopyWarning: \n",
      "A value is trying to be set on a copy of a slice from a DataFrame.\n",
      "Try using .loc[row_indexer,col_indexer] = value instead\n",
      "\n",
      "See the caveats in the documentation: https://pandas.pydata.org/pandas-docs/stable/user_guide/indexing.html#returning-a-view-versus-a-copy\n",
      "  loans2['within_target'] = np.where(loans2['reporting_time']<=7,'Yes','No')\n"
     ]
    }
   ],
   "source": [
    "loans2['within_target'] = np.where(loans2['reporting_time']<=7,'Yes','No')"
   ]
  },
  {
   "cell_type": "code",
   "execution_count": 198,
   "metadata": {},
   "outputs": [
    {
     "data": {
      "text/plain": [
       "No     488503\n",
       "Yes    137427\n",
       "Name: within_target, dtype: int64"
      ]
     },
     "execution_count": 198,
     "metadata": {},
     "output_type": "execute_result"
    }
   ],
   "source": [
    "loans2['within_target'].value_counts()"
   ]
  },
  {
   "cell_type": "code",
   "execution_count": 199,
   "metadata": {},
   "outputs": [
    {
     "data": {
      "text/plain": [
       "No     78.04435\n",
       "Yes    21.95565\n",
       "Name: within_target, dtype: float64"
      ]
     },
     "execution_count": 199,
     "metadata": {},
     "output_type": "execute_result"
    }
   ],
   "source": [
    "loans2['within_target'].value_counts(normalize=True) * 100"
   ]
  },
  {
   "cell_type": "markdown",
   "metadata": {},
   "source": [
    "Only 21% of loans are posted within 7 days of being disbursed"
   ]
  },
  {
   "cell_type": "code",
   "execution_count": 200,
   "metadata": {},
   "outputs": [],
   "source": [
    "prtnrs_tm = pd.pivot_table(loans2,index='Field Partner Name',values='id',columns='within_target',aggfunc='count',margins=True)\n",
    "prtnrs_tm['target_achvd'] = (prtnrs_tm['Yes'] / prtnrs_tm['All']) * 100"
   ]
  },
  {
   "cell_type": "code",
   "execution_count": 201,
   "metadata": {},
   "outputs": [
    {
     "data": {
      "text/plain": [
       "Field Partner Name\n",
       "FundaciÍ_n Paraguaya    0.075611\n",
       "Vitas - Lebanon         0.110988\n",
       "Interactuar             0.298981\n",
       "Kepler                  0.354610\n",
       "VisionFund Cambodia     0.711809\n",
       "Name: target_achvd, dtype: float64"
      ]
     },
     "execution_count": 201,
     "metadata": {},
     "output_type": "execute_result"
    }
   ],
   "source": [
    "# Partners that take the most time posting loans\n",
    "prtnrs_tm['target_achvd'].nsmallest(5)"
   ]
  },
  {
   "cell_type": "code",
   "execution_count": 202,
   "metadata": {},
   "outputs": [
    {
     "data": {
      "text/plain": [
       "Field Partner Name\n",
       "277.0    100.0\n",
       "299.0    100.0\n",
       "323.0    100.0\n",
       "344.0    100.0\n",
       "409.0    100.0\n",
       "Name: target_achvd, dtype: float64"
      ]
     },
     "execution_count": 202,
     "metadata": {},
     "output_type": "execute_result"
    }
   ],
   "source": [
    "# Partners that take the least time posting loans\n",
    "prtnrs_tm['target_achvd'].nlargest(5)"
   ]
  },
  {
   "cell_type": "markdown",
   "metadata": {},
   "source": [
    "Disadvantage with this method is that our partners may have to post loans on Kiva almost everyday so that a loan does not take more than 7 days to be posted and they might not have enough time to do this"
   ]
  },
  {
   "cell_type": "markdown",
   "metadata": {},
   "source": [
    "##### 3.1.2 Percentage Reported Before CutOff\n",
    "We can come to an agreement with our partners that they should post loans disbursed in  a certain period before a given date e.g every Friday and calculate what percentage of loans are posted before the cutoff. \n",
    "\n",
    "We agree with each partner a day that suits them weekly but in my case I have chosen Friday"
   ]
  },
  {
   "cell_type": "code",
   "execution_count": 203,
   "metadata": {},
   "outputs": [
    {
     "name": "stderr",
     "output_type": "stream",
     "text": [
      "C:\\Users\\hp\\AppData\\Local\\Temp\\ipykernel_16024\\1841135154.py:2: SettingWithCopyWarning: \n",
      "A value is trying to be set on a copy of a slice from a DataFrame.\n",
      "Try using .loc[row_indexer,col_indexer] = value instead\n",
      "\n",
      "See the caveats in the documentation: https://pandas.pydata.org/pandas-docs/stable/user_guide/indexing.html#returning-a-view-versus-a-copy\n",
      "  loans2['cutoff'] = loans2['dibursment_date'] + pd.to_timedelta((4 - day_of_week) % 7 + (day_of_week == 4), unit='D')\n"
     ]
    }
   ],
   "source": [
    "day_of_week = loans2['dibursment_date'].dt.dayofweek\n",
    "loans2['cutoff'] = loans2['dibursment_date'] + pd.to_timedelta((4 - day_of_week) % 7 + (day_of_week == 4), unit='D')"
   ]
  },
  {
   "cell_type": "code",
   "execution_count": 204,
   "metadata": {},
   "outputs": [
    {
     "name": "stderr",
     "output_type": "stream",
     "text": [
      "C:\\Users\\hp\\AppData\\Local\\Temp\\ipykernel_16024\\2213568777.py:1: SettingWithCopyWarning: \n",
      "A value is trying to be set on a copy of a slice from a DataFrame.\n",
      "Try using .loc[row_indexer,col_indexer] = value instead\n",
      "\n",
      "See the caveats in the documentation: https://pandas.pydata.org/pandas-docs/stable/user_guide/indexing.html#returning-a-view-versus-a-copy\n",
      "  loans2['before_cutoff'] = loans2['reporting_date'] <= loans2['cutoff']\n"
     ]
    }
   ],
   "source": [
    "loans2['before_cutoff'] = loans2['reporting_date'] <= loans2['cutoff']"
   ]
  },
  {
   "cell_type": "code",
   "execution_count": 205,
   "metadata": {},
   "outputs": [
    {
     "data": {
      "text/plain": [
       "False    572079\n",
       "True      53851\n",
       "Name: before_cutoff, dtype: int64"
      ]
     },
     "execution_count": 205,
     "metadata": {},
     "output_type": "execute_result"
    }
   ],
   "source": [
    "loans2['before_cutoff'].value_counts()"
   ]
  },
  {
   "cell_type": "code",
   "execution_count": 206,
   "metadata": {},
   "outputs": [
    {
     "data": {
      "text/plain": [
       "No     78.04435\n",
       "Yes    21.95565\n",
       "Name: within_target, dtype: float64"
      ]
     },
     "execution_count": 206,
     "metadata": {},
     "output_type": "execute_result"
    }
   ],
   "source": [
    "loans2['within_target'].value_counts(normalize=True) * 100"
   ]
  },
  {
   "cell_type": "markdown",
   "metadata": {},
   "source": [
    "Only 21% of loans are posted on Kiva before the cutoff of every Friday"
   ]
  },
  {
   "cell_type": "code",
   "execution_count": 207,
   "metadata": {},
   "outputs": [
    {
     "data": {
      "text/html": [
       "<div>\n",
       "<style scoped>\n",
       "    .dataframe tbody tr th:only-of-type {\n",
       "        vertical-align: middle;\n",
       "    }\n",
       "\n",
       "    .dataframe tbody tr th {\n",
       "        vertical-align: top;\n",
       "    }\n",
       "\n",
       "    .dataframe thead th {\n",
       "        text-align: right;\n",
       "    }\n",
       "</style>\n",
       "<table border=\"1\" class=\"dataframe\">\n",
       "  <thead>\n",
       "    <tr style=\"text-align: right;\">\n",
       "      <th>before_cutoff</th>\n",
       "      <th>False</th>\n",
       "      <th>True</th>\n",
       "      <th>All</th>\n",
       "    </tr>\n",
       "    <tr>\n",
       "      <th>Field Partner Name</th>\n",
       "      <th></th>\n",
       "      <th></th>\n",
       "      <th></th>\n",
       "    </tr>\n",
       "  </thead>\n",
       "  <tbody>\n",
       "    <tr>\n",
       "      <th>71.0</th>\n",
       "      <td>332.0</td>\n",
       "      <td>1.0</td>\n",
       "      <td>333</td>\n",
       "    </tr>\n",
       "    <tr>\n",
       "      <th>74.0</th>\n",
       "      <td>1007.0</td>\n",
       "      <td>80.0</td>\n",
       "      <td>1087</td>\n",
       "    </tr>\n",
       "    <tr>\n",
       "      <th>78.0</th>\n",
       "      <td>3644.0</td>\n",
       "      <td>164.0</td>\n",
       "      <td>3808</td>\n",
       "    </tr>\n",
       "    <tr>\n",
       "      <th>85.0</th>\n",
       "      <td>261.0</td>\n",
       "      <td>22.0</td>\n",
       "      <td>283</td>\n",
       "    </tr>\n",
       "    <tr>\n",
       "      <th>98.0</th>\n",
       "      <td>1253.0</td>\n",
       "      <td>84.0</td>\n",
       "      <td>1337</td>\n",
       "    </tr>\n",
       "    <tr>\n",
       "      <th>...</th>\n",
       "      <td>...</td>\n",
       "      <td>...</td>\n",
       "      <td>...</td>\n",
       "    </tr>\n",
       "    <tr>\n",
       "      <th>iDE Cambodia</th>\n",
       "      <td>14528.0</td>\n",
       "      <td>1290.0</td>\n",
       "      <td>15818</td>\n",
       "    </tr>\n",
       "    <tr>\n",
       "      <th>iSchool Zambia</th>\n",
       "      <td>3.0</td>\n",
       "      <td>4.0</td>\n",
       "      <td>7</td>\n",
       "    </tr>\n",
       "    <tr>\n",
       "      <th>iSmart Kenya</th>\n",
       "      <td>NaN</td>\n",
       "      <td>7.0</td>\n",
       "      <td>7</td>\n",
       "    </tr>\n",
       "    <tr>\n",
       "      <th>myAgro</th>\n",
       "      <td>400.0</td>\n",
       "      <td>11.0</td>\n",
       "      <td>411</td>\n",
       "    </tr>\n",
       "    <tr>\n",
       "      <th>All</th>\n",
       "      <td>572078.0</td>\n",
       "      <td>53851.0</td>\n",
       "      <td>625929</td>\n",
       "    </tr>\n",
       "  </tbody>\n",
       "</table>\n",
       "<p>273 rows × 3 columns</p>\n",
       "</div>"
      ],
      "text/plain": [
       "before_cutoff          False     True     All\n",
       "Field Partner Name                           \n",
       "71.0                   332.0      1.0     333\n",
       "74.0                  1007.0     80.0    1087\n",
       "78.0                  3644.0    164.0    3808\n",
       "85.0                   261.0     22.0     283\n",
       "98.0                  1253.0     84.0    1337\n",
       "...                      ...      ...     ...\n",
       "iDE Cambodia         14528.0   1290.0   15818\n",
       "iSchool Zambia           3.0      4.0       7\n",
       "iSmart Kenya             NaN      7.0       7\n",
       "myAgro                 400.0     11.0     411\n",
       "All                 572078.0  53851.0  625929\n",
       "\n",
       "[273 rows x 3 columns]"
      ]
     },
     "execution_count": 207,
     "metadata": {},
     "output_type": "execute_result"
    }
   ],
   "source": [
    "pd.pivot_table(loans2,index='Field Partner Name',values='id',columns='before_cutoff',aggfunc='count',margins=True)"
   ]
  },
  {
   "cell_type": "code",
   "execution_count": 208,
   "metadata": {},
   "outputs": [],
   "source": [
    "prtnrs_tm1 = pd.pivot_table(loans2,index='Field Partner Name',values='id',columns='before_cutoff',aggfunc='count',margins=True)\n",
    "prtnrs_tm1['cutoff_achvd'] = (prtnrs_tm1[True] / prtnrs_tm1['All']) * 100"
   ]
  },
  {
   "cell_type": "code",
   "execution_count": 209,
   "metadata": {},
   "outputs": [
    {
     "data": {
      "text/plain": [
       "Field Partner Name\n",
       "FundaciÍ_n Paraguaya        0.058809\n",
       "Interactuar                 0.073220\n",
       "BRAC Uganda                 0.073774\n",
       "Turame Community Finance    0.113895\n",
       "VisionFund Cambodia         0.237270\n",
       "Name: cutoff_achvd, dtype: float64"
      ]
     },
     "execution_count": 209,
     "metadata": {},
     "output_type": "execute_result"
    }
   ],
   "source": [
    "# Partners that take the most time posting loans\n",
    "prtnrs_tm1['cutoff_achvd'].nsmallest(5)"
   ]
  },
  {
   "cell_type": "code",
   "execution_count": 210,
   "metadata": {},
   "outputs": [
    {
     "data": {
      "text/plain": [
       "Field Partner Name\n",
       "323.0               100.0\n",
       "Fonkoze - ZafÍÎn    100.0\n",
       "Novica              100.0\n",
       "One Degree Solar    100.0\n",
       "UpEnergy            100.0\n",
       "Name: cutoff_achvd, dtype: float64"
      ]
     },
     "execution_count": 210,
     "metadata": {},
     "output_type": "execute_result"
    }
   ],
   "source": [
    "# Partners that take the least time posting loans\n",
    "prtnrs_tm1['cutoff_achvd'].nlargest(5)"
   ]
  },
  {
   "cell_type": "markdown",
   "metadata": {},
   "source": [
    "#### 3.1 Needy Coverage\n",
    "This is a measure of how well we are providing help to the areas that need it the most"
   ]
  },
  {
   "cell_type": "code",
   "execution_count": 211,
   "metadata": {},
   "outputs": [],
   "source": [
    "mpi_indx = mpi.groupby('country',as_index=False)['MPI'].mean()"
   ]
  },
  {
   "cell_type": "code",
   "execution_count": 212,
   "metadata": {},
   "outputs": [
    {
     "data": {
      "text/html": [
       "<div>\n",
       "<style scoped>\n",
       "    .dataframe tbody tr th:only-of-type {\n",
       "        vertical-align: middle;\n",
       "    }\n",
       "\n",
       "    .dataframe tbody tr th {\n",
       "        vertical-align: top;\n",
       "    }\n",
       "\n",
       "    .dataframe thead th {\n",
       "        text-align: right;\n",
       "    }\n",
       "</style>\n",
       "<table border=\"1\" class=\"dataframe\">\n",
       "  <thead>\n",
       "    <tr style=\"text-align: right;\">\n",
       "      <th></th>\n",
       "      <th>country</th>\n",
       "      <th>MPI</th>\n",
       "    </tr>\n",
       "  </thead>\n",
       "  <tbody>\n",
       "    <tr>\n",
       "      <th>0</th>\n",
       "      <td>Afghanistan</td>\n",
       "      <td>0.309853</td>\n",
       "    </tr>\n",
       "    <tr>\n",
       "      <th>1</th>\n",
       "      <td>Bangladesh</td>\n",
       "      <td>0.208286</td>\n",
       "    </tr>\n",
       "    <tr>\n",
       "      <th>2</th>\n",
       "      <td>Belize</td>\n",
       "      <td>0.020143</td>\n",
       "    </tr>\n",
       "    <tr>\n",
       "      <th>3</th>\n",
       "      <td>Benin</td>\n",
       "      <td>0.320333</td>\n",
       "    </tr>\n",
       "    <tr>\n",
       "      <th>4</th>\n",
       "      <td>Bhutan</td>\n",
       "      <td>0.123474</td>\n",
       "    </tr>\n",
       "  </tbody>\n",
       "</table>\n",
       "</div>"
      ],
      "text/plain": [
       "       country       MPI\n",
       "0  Afghanistan  0.309853\n",
       "1   Bangladesh  0.208286\n",
       "2       Belize  0.020143\n",
       "3        Benin  0.320333\n",
       "4       Bhutan  0.123474"
      ]
     },
     "execution_count": 212,
     "metadata": {},
     "output_type": "execute_result"
    }
   ],
   "source": [
    "mpi_indx.head()"
   ]
  },
  {
   "cell_type": "code",
   "execution_count": 213,
   "metadata": {},
   "outputs": [],
   "source": [
    "loan_amt = loans.groupby('country',as_index=False)['loan_amount'].sum()"
   ]
  },
  {
   "cell_type": "code",
   "execution_count": 214,
   "metadata": {},
   "outputs": [
    {
     "data": {
      "text/html": [
       "<div>\n",
       "<style scoped>\n",
       "    .dataframe tbody tr th:only-of-type {\n",
       "        vertical-align: middle;\n",
       "    }\n",
       "\n",
       "    .dataframe tbody tr th {\n",
       "        vertical-align: top;\n",
       "    }\n",
       "\n",
       "    .dataframe thead th {\n",
       "        text-align: right;\n",
       "    }\n",
       "</style>\n",
       "<table border=\"1\" class=\"dataframe\">\n",
       "  <thead>\n",
       "    <tr style=\"text-align: right;\">\n",
       "      <th></th>\n",
       "      <th>country</th>\n",
       "      <th>loan_amount</th>\n",
       "    </tr>\n",
       "  </thead>\n",
       "  <tbody>\n",
       "    <tr>\n",
       "      <th>0</th>\n",
       "      <td>Afghanistan</td>\n",
       "      <td>14000.0</td>\n",
       "    </tr>\n",
       "    <tr>\n",
       "      <th>1</th>\n",
       "      <td>Albania</td>\n",
       "      <td>2666500.0</td>\n",
       "    </tr>\n",
       "    <tr>\n",
       "      <th>2</th>\n",
       "      <td>Armenia</td>\n",
       "      <td>12915400.0</td>\n",
       "    </tr>\n",
       "    <tr>\n",
       "      <th>3</th>\n",
       "      <td>Azerbaijan</td>\n",
       "      <td>2888700.0</td>\n",
       "    </tr>\n",
       "    <tr>\n",
       "      <th>4</th>\n",
       "      <td>Belize</td>\n",
       "      <td>114025.0</td>\n",
       "    </tr>\n",
       "  </tbody>\n",
       "</table>\n",
       "</div>"
      ],
      "text/plain": [
       "       country  loan_amount\n",
       "0  Afghanistan      14000.0\n",
       "1      Albania    2666500.0\n",
       "2      Armenia   12915400.0\n",
       "3   Azerbaijan    2888700.0\n",
       "4       Belize     114025.0"
      ]
     },
     "execution_count": 214,
     "metadata": {},
     "output_type": "execute_result"
    }
   ],
   "source": [
    "loan_amt.head()"
   ]
  },
  {
   "cell_type": "markdown",
   "metadata": {},
   "source": [
    "Using the average MPI of a country we created our own index of how needy a country is so the higher the index the more needy that country is.\n",
    " \n",
    "Assuming our entrire loan book was to be distributred equally based on need then each country would require our index * total amount.\n",
    "\n",
    "We then compared the amount actually loaned per country with the required funding to see if a country is underserved or not and by how much."
   ]
  },
  {
   "cell_type": "code",
   "execution_count": 215,
   "metadata": {},
   "outputs": [],
   "source": [
    "coverage = pd.merge(loan_amt,mpi_indx,on='country',how='right')\n",
    "coverage['loan_amount'] = coverage['loan_amount'].fillna(0)\n",
    "coverage['index'] = coverage['MPI'] / coverage['MPI'].sum()\n",
    "coverage['funding_need'] = (coverage['index'] * coverage['loan_amount'].sum()).round(0)\n",
    "coverage['funding_deficit'] = coverage['loan_amount'] - coverage['funding_need']\n",
    "coverage['%funding_deficit'] = ((coverage['loan_amount'] / coverage['funding_need']) * 100).round(2)\n",
    "coverage['funding'] = np.where(coverage['funding_deficit']>0,'over funded',\n",
    "                        np.where(coverage['funding_deficit']<0,'under funded','fully funded'))"
   ]
  },
  {
   "cell_type": "code",
   "execution_count": 216,
   "metadata": {},
   "outputs": [
    {
     "data": {
      "text/plain": [
       "under funded    55\n",
       "over funded     23\n",
       "Name: funding, dtype: int64"
      ]
     },
     "execution_count": 216,
     "metadata": {},
     "output_type": "execute_result"
    }
   ],
   "source": [
    "coverage['funding'].value_counts()"
   ]
  },
  {
   "cell_type": "code",
   "execution_count": 217,
   "metadata": {},
   "outputs": [
    {
     "data": {
      "text/plain": [
       "under funded    70.512821\n",
       "over funded     29.487179\n",
       "Name: funding, dtype: float64"
      ]
     },
     "execution_count": 217,
     "metadata": {},
     "output_type": "execute_result"
    }
   ],
   "source": [
    "coverage['funding'].value_counts(normalize=True) * 100"
   ]
  },
  {
   "cell_type": "markdown",
   "metadata": {},
   "source": [
    "70% of countries are receiving less money than what they require"
   ]
  },
  {
   "cell_type": "code",
   "execution_count": 218,
   "metadata": {},
   "outputs": [
    {
     "data": {
      "text/html": [
       "<div>\n",
       "<style scoped>\n",
       "    .dataframe tbody tr th:only-of-type {\n",
       "        vertical-align: middle;\n",
       "    }\n",
       "\n",
       "    .dataframe tbody tr th {\n",
       "        vertical-align: top;\n",
       "    }\n",
       "\n",
       "    .dataframe thead th {\n",
       "        text-align: right;\n",
       "    }\n",
       "</style>\n",
       "<table border=\"1\" class=\"dataframe\">\n",
       "  <thead>\n",
       "    <tr style=\"text-align: right;\">\n",
       "      <th></th>\n",
       "      <th>country</th>\n",
       "      <th>loan_amount</th>\n",
       "      <th>MPI</th>\n",
       "      <th>index</th>\n",
       "      <th>funding_need</th>\n",
       "      <th>funding_deficit</th>\n",
       "      <th>%funding_deficit</th>\n",
       "      <th>funding</th>\n",
       "    </tr>\n",
       "  </thead>\n",
       "  <tbody>\n",
       "    <tr>\n",
       "      <th>66</th>\n",
       "      <td>Syrian Arab Republic</td>\n",
       "      <td>0.0</td>\n",
       "      <td>0.014643</td>\n",
       "      <td>0.000890</td>\n",
       "      <td>320100.0</td>\n",
       "      <td>-320100.0</td>\n",
       "      <td>0.0</td>\n",
       "      <td>under funded</td>\n",
       "    </tr>\n",
       "    <tr>\n",
       "      <th>24</th>\n",
       "      <td>Ethiopia</td>\n",
       "      <td>0.0</td>\n",
       "      <td>0.492273</td>\n",
       "      <td>0.029916</td>\n",
       "      <td>10761320.0</td>\n",
       "      <td>-10761320.0</td>\n",
       "      <td>0.0</td>\n",
       "      <td>under funded</td>\n",
       "    </tr>\n",
       "    <tr>\n",
       "      <th>68</th>\n",
       "      <td>Tanzania, United Republic of</td>\n",
       "      <td>0.0</td>\n",
       "      <td>0.266333</td>\n",
       "      <td>0.016185</td>\n",
       "      <td>5822176.0</td>\n",
       "      <td>-5822176.0</td>\n",
       "      <td>0.0</td>\n",
       "      <td>under funded</td>\n",
       "    </tr>\n",
       "    <tr>\n",
       "      <th>53</th>\n",
       "      <td>Niger</td>\n",
       "      <td>0.0</td>\n",
       "      <td>0.543375</td>\n",
       "      <td>0.033021</td>\n",
       "      <td>11878441.0</td>\n",
       "      <td>-11878441.0</td>\n",
       "      <td>0.0</td>\n",
       "      <td>under funded</td>\n",
       "    </tr>\n",
       "    <tr>\n",
       "      <th>65</th>\n",
       "      <td>Swaziland</td>\n",
       "      <td>0.0</td>\n",
       "      <td>0.073500</td>\n",
       "      <td>0.004467</td>\n",
       "      <td>1606746.0</td>\n",
       "      <td>-1606746.0</td>\n",
       "      <td>0.0</td>\n",
       "      <td>under funded</td>\n",
       "    </tr>\n",
       "    <tr>\n",
       "      <th>71</th>\n",
       "      <td>Trinidad and Tobago</td>\n",
       "      <td>0.0</td>\n",
       "      <td>0.020800</td>\n",
       "      <td>0.001264</td>\n",
       "      <td>454698.0</td>\n",
       "      <td>-454698.0</td>\n",
       "      <td>0.0</td>\n",
       "      <td>under funded</td>\n",
       "    </tr>\n",
       "    <tr>\n",
       "      <th>19</th>\n",
       "      <td>Djibouti</td>\n",
       "      <td>0.0</td>\n",
       "      <td>0.169500</td>\n",
       "      <td>0.010301</td>\n",
       "      <td>3705352.0</td>\n",
       "      <td>-3705352.0</td>\n",
       "      <td>0.0</td>\n",
       "      <td>under funded</td>\n",
       "    </tr>\n",
       "    <tr>\n",
       "      <th>18</th>\n",
       "      <td>Cote d'Ivoire</td>\n",
       "      <td>0.0</td>\n",
       "      <td>0.348000</td>\n",
       "      <td>0.021148</td>\n",
       "      <td>7607449.0</td>\n",
       "      <td>-7607449.0</td>\n",
       "      <td>0.0</td>\n",
       "      <td>under funded</td>\n",
       "    </tr>\n",
       "    <tr>\n",
       "      <th>17</th>\n",
       "      <td>Congo, Republic of</td>\n",
       "      <td>0.0</td>\n",
       "      <td>0.265583</td>\n",
       "      <td>0.016140</td>\n",
       "      <td>5805780.0</td>\n",
       "      <td>-5805780.0</td>\n",
       "      <td>0.0</td>\n",
       "      <td>under funded</td>\n",
       "    </tr>\n",
       "    <tr>\n",
       "      <th>16</th>\n",
       "      <td>Congo, Democratic Republic of the</td>\n",
       "      <td>0.0</td>\n",
       "      <td>0.395636</td>\n",
       "      <td>0.024043</td>\n",
       "      <td>8648803.0</td>\n",
       "      <td>-8648803.0</td>\n",
       "      <td>0.0</td>\n",
       "      <td>under funded</td>\n",
       "    </tr>\n",
       "  </tbody>\n",
       "</table>\n",
       "</div>"
      ],
      "text/plain": [
       "                              country  loan_amount       MPI     index  \\\n",
       "66               Syrian Arab Republic          0.0  0.014643  0.000890   \n",
       "24                           Ethiopia          0.0  0.492273  0.029916   \n",
       "68       Tanzania, United Republic of          0.0  0.266333  0.016185   \n",
       "53                              Niger          0.0  0.543375  0.033021   \n",
       "65                          Swaziland          0.0  0.073500  0.004467   \n",
       "71                Trinidad and Tobago          0.0  0.020800  0.001264   \n",
       "19                           Djibouti          0.0  0.169500  0.010301   \n",
       "18                      Cote d'Ivoire          0.0  0.348000  0.021148   \n",
       "17                 Congo, Republic of          0.0  0.265583  0.016140   \n",
       "16  Congo, Democratic Republic of the          0.0  0.395636  0.024043   \n",
       "\n",
       "    funding_need  funding_deficit  %funding_deficit       funding  \n",
       "66      320100.0        -320100.0               0.0  under funded  \n",
       "24    10761320.0      -10761320.0               0.0  under funded  \n",
       "68     5822176.0       -5822176.0               0.0  under funded  \n",
       "53    11878441.0      -11878441.0               0.0  under funded  \n",
       "65     1606746.0       -1606746.0               0.0  under funded  \n",
       "71      454698.0        -454698.0               0.0  under funded  \n",
       "19     3705352.0       -3705352.0               0.0  under funded  \n",
       "18     7607449.0       -7607449.0               0.0  under funded  \n",
       "17     5805780.0       -5805780.0               0.0  under funded  \n",
       "16     8648803.0       -8648803.0               0.0  under funded  "
      ]
     },
     "execution_count": 218,
     "metadata": {},
     "output_type": "execute_result"
    }
   ],
   "source": [
    "# Countries that are under funded\n",
    "coverage.sort_values('%funding_deficit').head(10)"
   ]
  },
  {
   "cell_type": "code",
   "execution_count": 219,
   "metadata": {},
   "outputs": [
    {
     "data": {
      "text/html": [
       "<div>\n",
       "<style scoped>\n",
       "    .dataframe tbody tr th:only-of-type {\n",
       "        vertical-align: middle;\n",
       "    }\n",
       "\n",
       "    .dataframe tbody tr th {\n",
       "        vertical-align: top;\n",
       "    }\n",
       "\n",
       "    .dataframe thead th {\n",
       "        text-align: right;\n",
       "    }\n",
       "</style>\n",
       "<table border=\"1\" class=\"dataframe\">\n",
       "  <thead>\n",
       "    <tr style=\"text-align: right;\">\n",
       "      <th></th>\n",
       "      <th>country</th>\n",
       "      <th>loan_amount</th>\n",
       "      <th>MPI</th>\n",
       "      <th>index</th>\n",
       "      <th>funding_need</th>\n",
       "      <th>funding_deficit</th>\n",
       "      <th>%funding_deficit</th>\n",
       "      <th>funding</th>\n",
       "    </tr>\n",
       "  </thead>\n",
       "  <tbody>\n",
       "    <tr>\n",
       "      <th>57</th>\n",
       "      <td>Philippines</td>\n",
       "      <td>55342225.0</td>\n",
       "      <td>0.061824</td>\n",
       "      <td>0.003757</td>\n",
       "      <td>1351492.0</td>\n",
       "      <td>53990733.0</td>\n",
       "      <td>4094.90</td>\n",
       "      <td>over funded</td>\n",
       "    </tr>\n",
       "    <tr>\n",
       "      <th>23</th>\n",
       "      <td>El Salvador</td>\n",
       "      <td>26603650.0</td>\n",
       "      <td>0.031500</td>\n",
       "      <td>0.001914</td>\n",
       "      <td>688605.0</td>\n",
       "      <td>25915045.0</td>\n",
       "      <td>3863.41</td>\n",
       "      <td>over funded</td>\n",
       "    </tr>\n",
       "    <tr>\n",
       "      <th>21</th>\n",
       "      <td>Ecuador</td>\n",
       "      <td>15000275.0</td>\n",
       "      <td>0.018250</td>\n",
       "      <td>0.001109</td>\n",
       "      <td>398954.0</td>\n",
       "      <td>14601321.0</td>\n",
       "      <td>3759.90</td>\n",
       "      <td>over funded</td>\n",
       "    </tr>\n",
       "    <tr>\n",
       "      <th>37</th>\n",
       "      <td>Jordan</td>\n",
       "      <td>4672150.0</td>\n",
       "      <td>0.006333</td>\n",
       "      <td>0.000385</td>\n",
       "      <td>138450.0</td>\n",
       "      <td>4533700.0</td>\n",
       "      <td>3374.61</td>\n",
       "      <td>over funded</td>\n",
       "    </tr>\n",
       "    <tr>\n",
       "      <th>56</th>\n",
       "      <td>Peru</td>\n",
       "      <td>30867400.0</td>\n",
       "      <td>0.053080</td>\n",
       "      <td>0.003226</td>\n",
       "      <td>1160355.0</td>\n",
       "      <td>29707045.0</td>\n",
       "      <td>2660.17</td>\n",
       "      <td>over funded</td>\n",
       "    </tr>\n",
       "    <tr>\n",
       "      <th>14</th>\n",
       "      <td>Colombia</td>\n",
       "      <td>14415600.0</td>\n",
       "      <td>0.025125</td>\n",
       "      <td>0.001527</td>\n",
       "      <td>549245.0</td>\n",
       "      <td>13866355.0</td>\n",
       "      <td>2624.62</td>\n",
       "      <td>over funded</td>\n",
       "    </tr>\n",
       "    <tr>\n",
       "      <th>67</th>\n",
       "      <td>Tajikistan</td>\n",
       "      <td>15030350.0</td>\n",
       "      <td>0.046600</td>\n",
       "      <td>0.002832</td>\n",
       "      <td>1018699.0</td>\n",
       "      <td>14011651.0</td>\n",
       "      <td>1475.45</td>\n",
       "      <td>over funded</td>\n",
       "    </tr>\n",
       "    <tr>\n",
       "      <th>38</th>\n",
       "      <td>Kenya</td>\n",
       "      <td>34534300.0</td>\n",
       "      <td>0.209375</td>\n",
       "      <td>0.012724</td>\n",
       "      <td>4577039.0</td>\n",
       "      <td>29957261.0</td>\n",
       "      <td>754.51</td>\n",
       "      <td>over funded</td>\n",
       "    </tr>\n",
       "    <tr>\n",
       "      <th>52</th>\n",
       "      <td>Nicaragua</td>\n",
       "      <td>10601950.0</td>\n",
       "      <td>0.083588</td>\n",
       "      <td>0.005080</td>\n",
       "      <td>1827279.0</td>\n",
       "      <td>8774671.0</td>\n",
       "      <td>580.20</td>\n",
       "      <td>over funded</td>\n",
       "    </tr>\n",
       "    <tr>\n",
       "      <th>9</th>\n",
       "      <td>Cambodia</td>\n",
       "      <td>19872700.0</td>\n",
       "      <td>0.164053</td>\n",
       "      <td>0.009970</td>\n",
       "      <td>3586270.0</td>\n",
       "      <td>16286430.0</td>\n",
       "      <td>554.13</td>\n",
       "      <td>over funded</td>\n",
       "    </tr>\n",
       "  </tbody>\n",
       "</table>\n",
       "</div>"
      ],
      "text/plain": [
       "        country  loan_amount       MPI     index  funding_need  \\\n",
       "57  Philippines   55342225.0  0.061824  0.003757     1351492.0   \n",
       "23  El Salvador   26603650.0  0.031500  0.001914      688605.0   \n",
       "21      Ecuador   15000275.0  0.018250  0.001109      398954.0   \n",
       "37       Jordan    4672150.0  0.006333  0.000385      138450.0   \n",
       "56         Peru   30867400.0  0.053080  0.003226     1160355.0   \n",
       "14     Colombia   14415600.0  0.025125  0.001527      549245.0   \n",
       "67   Tajikistan   15030350.0  0.046600  0.002832     1018699.0   \n",
       "38        Kenya   34534300.0  0.209375  0.012724     4577039.0   \n",
       "52    Nicaragua   10601950.0  0.083588  0.005080     1827279.0   \n",
       "9      Cambodia   19872700.0  0.164053  0.009970     3586270.0   \n",
       "\n",
       "    funding_deficit  %funding_deficit      funding  \n",
       "57       53990733.0           4094.90  over funded  \n",
       "23       25915045.0           3863.41  over funded  \n",
       "21       14601321.0           3759.90  over funded  \n",
       "37        4533700.0           3374.61  over funded  \n",
       "56       29707045.0           2660.17  over funded  \n",
       "14       13866355.0           2624.62  over funded  \n",
       "67       14011651.0           1475.45  over funded  \n",
       "38       29957261.0            754.51  over funded  \n",
       "52        8774671.0            580.20  over funded  \n",
       "9        16286430.0            554.13  over funded  "
      ]
     },
     "execution_count": 219,
     "metadata": {},
     "output_type": "execute_result"
    }
   ],
   "source": [
    "# Countries that are over funded\n",
    "coverage.sort_values('%funding_deficit',ascending=False).head(10)"
   ]
  }
 ],
 "metadata": {
  "kernelspec": {
   "display_name": "base",
   "language": "python",
   "name": "python3"
  },
  "language_info": {
   "codemirror_mode": {
    "name": "ipython",
    "version": 3
   },
   "file_extension": ".py",
   "mimetype": "text/x-python",
   "name": "python",
   "nbconvert_exporter": "python",
   "pygments_lexer": "ipython3",
   "version": "3.9.12"
  }
 },
 "nbformat": 4,
 "nbformat_minor": 2
}
